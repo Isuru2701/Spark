{
 "metadata": {
  "kernelspec": {
   "language": "python",
   "display_name": "Python 3",
   "name": "python3"
  },
  "language_info": {
   "name": "python",
   "version": "3.7.6",
   "mimetype": "text/x-python",
   "codemirror_mode": {
    "name": "ipython",
    "version": 3
   },
   "pygments_lexer": "ipython3",
   "nbconvert_exporter": "python",
   "file_extension": ".py"
  },
  "kaggle": {
   "accelerator": "gpu",
   "dataSources": [
    {
     "sourceId": 380816,
     "sourceType": "datasetVersion",
     "datasetId": 167377
    }
   ],
   "dockerImageVersionId": 30017,
   "isInternetEnabled": false,
   "language": "python",
   "sourceType": "notebook",
   "isGpuEnabled": true
  }
 },
 "nbformat_minor": 4,
 "nbformat": 4,
 "cells": [
  {
   "cell_type": "code",
   "outputs": [],
   "source": [],
   "metadata": {
    "collapsed": false,
    "ExecuteTime": {
     "end_time": "2024-02-08T06:00:38.399558400Z",
     "start_time": "2024-02-08T06:00:38.046850200Z"
    }
   },
   "execution_count": 49
  },
  {
   "cell_type": "code",
   "source": [
    "\n",
    "import numpy as np\n",
    "import pandas as pd\n"
   ],
   "metadata": {
    "_uuid": "8f2839f25d086af736a60e9eeb907d3b93b6e0e5",
    "_cell_guid": "b1076dfc-b9ad-4769-8c92-a6c4dae69d19",
    "execution": {
     "iopub.status.busy": "2024-02-08T02:20:10.839174Z",
     "iopub.execute_input": "2024-02-08T02:20:10.839536Z",
     "iopub.status.idle": "2024-02-08T02:20:10.844899Z",
     "shell.execute_reply.started": "2024-02-08T02:20:10.839504Z",
     "shell.execute_reply": "2024-02-08T02:20:10.843763Z"
    },
    "trusted": true,
    "ExecuteTime": {
     "end_time": "2024-02-08T06:00:38.492182500Z",
     "start_time": "2024-02-08T06:00:38.349752500Z"
    }
   },
   "execution_count": 50,
   "outputs": []
  },
  {
   "cell_type": "code",
   "source": [
    "from bs4 import BeautifulSoup"
   ],
   "metadata": {
    "execution": {
     "iopub.status.busy": "2024-02-08T02:20:10.849758Z",
     "iopub.execute_input": "2024-02-08T02:20:10.850063Z",
     "iopub.status.idle": "2024-02-08T02:20:11.099765Z",
     "shell.execute_reply.started": "2024-02-08T02:20:10.850033Z",
     "shell.execute_reply": "2024-02-08T02:20:11.099073Z"
    },
    "trusted": true,
    "ExecuteTime": {
     "end_time": "2024-02-08T06:00:38.616196600Z",
     "start_time": "2024-02-08T06:00:38.509923400Z"
    }
   },
   "execution_count": 51,
   "outputs": []
  },
  {
   "cell_type": "code",
   "source": [
    "df = pd.read_csv('../data/mpst_full_data.csv', delimiter=',')\n",
    "nRow, nCol = df.shape\n",
    "df.head(5)"
   ],
   "metadata": {
    "_uuid": "d629ff2d2480ee46fbb7e2d37f6b5fab8052498a",
    "_cell_guid": "79c7e3d0-c299-4dcb-8224-4455121ee9b0",
    "execution": {
     "iopub.status.busy": "2024-02-08T02:20:11.101506Z",
     "iopub.execute_input": "2024-02-08T02:20:11.101781Z",
     "iopub.status.idle": "2024-02-08T02:20:13.031143Z",
     "shell.execute_reply.started": "2024-02-08T02:20:11.101754Z",
     "shell.execute_reply": "2024-02-08T02:20:13.030385Z"
    },
    "trusted": true,
    "ExecuteTime": {
     "end_time": "2024-02-08T06:00:43.893885800Z",
     "start_time": "2024-02-08T06:00:38.653869100Z"
    }
   },
   "execution_count": 52,
   "outputs": [
    {
     "data": {
      "text/plain": "     imdb_id                                          title  \\\n0  tt0057603                        I tre volti della paura   \n1  tt1733125  Dungeons & Dragons: The Book of Vile Darkness   \n2  tt0033045                     The Shop Around the Corner   \n3  tt0113862                             Mr. Holland's Opus   \n4  tt0086250                                       Scarface   \n\n                                       plot_synopsis  \\\n0  Note: this synopsis is for the orginal Italian...   \n1  Two thousand years ago, Nhagruul the Foul, a s...   \n2  Matuschek's, a gift store in Budapest, is the ...   \n3  Glenn Holland, not a morning person by anyone'...   \n4  In May 1980, a Cuban man named Tony Montana (A...   \n\n                                                tags  split synopsis_source  \n0          cult, horror, gothic, murder, atmospheric  train            imdb  \n1                                           violence  train            imdb  \n2                                           romantic   test            imdb  \n3             inspiring, romantic, stupid, feel-good  train            imdb  \n4  cruelty, murder, dramatic, cult, violence, atm...    val            imdb  ",
      "text/html": "<div>\n<style scoped>\n    .dataframe tbody tr th:only-of-type {\n        vertical-align: middle;\n    }\n\n    .dataframe tbody tr th {\n        vertical-align: top;\n    }\n\n    .dataframe thead th {\n        text-align: right;\n    }\n</style>\n<table border=\"1\" class=\"dataframe\">\n  <thead>\n    <tr style=\"text-align: right;\">\n      <th></th>\n      <th>imdb_id</th>\n      <th>title</th>\n      <th>plot_synopsis</th>\n      <th>tags</th>\n      <th>split</th>\n      <th>synopsis_source</th>\n    </tr>\n  </thead>\n  <tbody>\n    <tr>\n      <th>0</th>\n      <td>tt0057603</td>\n      <td>I tre volti della paura</td>\n      <td>Note: this synopsis is for the orginal Italian...</td>\n      <td>cult, horror, gothic, murder, atmospheric</td>\n      <td>train</td>\n      <td>imdb</td>\n    </tr>\n    <tr>\n      <th>1</th>\n      <td>tt1733125</td>\n      <td>Dungeons &amp; Dragons: The Book of Vile Darkness</td>\n      <td>Two thousand years ago, Nhagruul the Foul, a s...</td>\n      <td>violence</td>\n      <td>train</td>\n      <td>imdb</td>\n    </tr>\n    <tr>\n      <th>2</th>\n      <td>tt0033045</td>\n      <td>The Shop Around the Corner</td>\n      <td>Matuschek's, a gift store in Budapest, is the ...</td>\n      <td>romantic</td>\n      <td>test</td>\n      <td>imdb</td>\n    </tr>\n    <tr>\n      <th>3</th>\n      <td>tt0113862</td>\n      <td>Mr. Holland's Opus</td>\n      <td>Glenn Holland, not a morning person by anyone'...</td>\n      <td>inspiring, romantic, stupid, feel-good</td>\n      <td>train</td>\n      <td>imdb</td>\n    </tr>\n    <tr>\n      <th>4</th>\n      <td>tt0086250</td>\n      <td>Scarface</td>\n      <td>In May 1980, a Cuban man named Tony Montana (A...</td>\n      <td>cruelty, murder, dramatic, cult, violence, atm...</td>\n      <td>val</td>\n      <td>imdb</td>\n    </tr>\n  </tbody>\n</table>\n</div>"
     },
     "execution_count": 52,
     "metadata": {},
     "output_type": "execute_result"
    }
   ]
  },
  {
   "cell_type": "markdown",
   "source": [
    "# Preprocessing"
   ],
   "metadata": {
    "collapsed": false
   }
  },
  {
   "cell_type": "code",
   "outputs": [],
   "source": [
    "import re #regular expression\n",
    "\n",
    "def decontracted(phrase):\n",
    "    # specific\n",
    "    phrase = re.sub(r\"won't\", \"will not\", phrase)\n",
    "    phrase = re.sub(r\"can\\'t\", \"can not\", phrase)\n",
    "\n",
    "    # general\n",
    "    phrase = re.sub(r\"n\\'t\", \" not\", phrase)\n",
    "    phrase = re.sub(r\"\\'re\", \" are\", phrase)\n",
    "    phrase = re.sub(r\"\\'s\", \" is\", phrase)\n",
    "    phrase = re.sub(r\"\\'d\", \" would\", phrase)\n",
    "    phrase = re.sub(r\"\\'ll\", \" will\", phrase)\n",
    "    phrase = re.sub(r\"\\'t\", \" not\", phrase)\n",
    "    phrase = re.sub(r\"\\'ve\", \" have\", phrase)\n",
    "    phrase = re.sub(r\"\\'m\", \" am\", phrase)\n",
    "    return phrase\n",
    "stopwords= set(['br', 'the', 'i', 'me', 'my', 'myself', 'we', 'our', 'ours', 'ourselves', 'you', \"you're\", \"you've\",\\\n",
    "            \"you'll\", \"you'd\", 'your', 'yours', 'yourself', 'yourselves', 'he', 'him', 'his', 'himself', \\\n",
    "            'she', \"she's\", 'her', 'hers', 'herself', 'it', \"it's\", 'its', 'itself', 'they', 'them', 'their',\\\n",
    "            'theirs', 'themselves', 'what', 'which', 'who', 'whom', 'this', 'that', \"that'll\", 'these', 'those', \\\n",
    "            'am', 'is', 'are', 'was', 'were', 'be', 'been', 'being', 'have', 'has', 'had', 'having', 'do', 'does', \\\n",
    "            'did', 'doing', 'a', 'an', 'the', 'and', 'but', 'if', 'or', 'because', 'as', 'until', 'while', 'of', \\\n",
    "            'at', 'by', 'for', 'with', 'about', 'against', 'between', 'into', 'through', 'during', 'before', 'after',\\\n",
    "            'above', 'below', 'to', 'from', 'up', 'down', 'in', 'out', 'on', 'off', 'over', 'under', 'again', 'further',\\\n",
    "            'then', 'once', 'here', 'there', 'when', 'where', 'why', 'how', 'all', 'any', 'both', 'each', 'few', 'more',\\\n",
    "            'most', 'other', 'some', 'such', 'only', 'own', 'same', 'so', 'than', 'too', 'very', \\\n",
    "            's', 't', 'can', 'will', 'just', 'don', \"don't\", 'should', \"should've\", 'now', 'd', 'll', 'm', 'o', 're', \\\n",
    "            've', 'y', 'ain', 'aren', \"aren't\", 'couldn', \"couldn't\", 'didn', \"didn't\", 'doesn', \"doesn't\", 'hadn',\\\n",
    "            \"hadn't\", 'hasn', \"hasn't\", 'haven', \"haven't\", 'isn', \"isn't\", 'ma', 'mightn', \"mightn't\", 'mustn',\\\n",
    "            \"mustn't\", 'needn', \"needn't\", 'shan', \"shan't\", 'shouldn', \"shouldn't\", 'wasn', \"wasn't\", 'weren', \"weren't\", \\\n",
    "            'won', \"won't\", 'wouldn', \"wouldn't\"])"
   ],
   "metadata": {
    "collapsed": false
   },
   "execution_count": 53
  },
  {
   "cell_type": "code",
   "source": [
    "from tqdm import tqdm\n",
    "preprocessed_synopsis = []\n",
    "# tqdm is for printing the status bar\n",
    "for sentence in df['plot_synopsis'].values:\n",
    "    sentence = re.sub(r\"http\\S+\", \"\", sentence)\n",
    "    sentence = BeautifulSoup(sentence, 'html.parser').get_text()\n",
    "    sentence = decontracted(sentence)\n",
    "    sentence = re.sub(\"\\S*\\d\\S*\", \"\", sentence).strip()\n",
    "    sentence = re.sub('[^A-Za-z]+', ' ', sentence)\n",
    "    # https://gist.github.com/sebleier/554280\n",
    "    sentence = ' '.join(e.lower() for e in sentence.split() if e.lower() not in stopwords)\n",
    "    preprocessed_synopsis.append(sentence.strip())\n",
    "df['preprocessed_plots']=preprocessed_synopsis"
   ],
   "metadata": {
    "execution": {
     "iopub.status.busy": "2024-02-08T02:20:13.055465Z",
     "iopub.execute_input": "2024-02-08T02:20:13.055894Z",
     "iopub.status.idle": "2024-02-08T02:20:53.282810Z",
     "shell.execute_reply.started": "2024-02-08T02:20:13.055851Z",
     "shell.execute_reply": "2024-02-08T02:20:53.281691Z"
    },
    "trusted": true,
    "ExecuteTime": {
     "end_time": "2024-02-08T06:01:24.908690800Z",
     "start_time": "2024-02-08T06:00:43.941522Z"
    }
   },
   "execution_count": 54,
   "outputs": []
  },
  {
   "cell_type": "code",
   "source": [
    "def remove_spaces(x):\n",
    "    x=x.split(\",\")\n",
    "    nospace=[]\n",
    "    for item in x:\n",
    "        item=item.lstrip()\n",
    "        nospace.append(item)\n",
    "    return (\",\").join(nospace)\n",
    "\n",
    "df['tags']=df['tags'].apply(remove_spaces)\n",
    "df['tags']"
   ],
   "metadata": {
    "execution": {
     "iopub.status.busy": "2024-02-08T02:20:53.286882Z",
     "iopub.execute_input": "2024-02-08T02:20:53.287360Z",
     "iopub.status.idle": "2024-02-08T02:20:53.330663Z",
     "shell.execute_reply.started": "2024-02-08T02:20:53.287309Z",
     "shell.execute_reply": "2024-02-08T02:20:53.329745Z"
    },
    "trusted": true,
    "ExecuteTime": {
     "end_time": "2024-02-08T06:01:25.127486800Z",
     "start_time": "2024-02-08T06:01:24.982365400Z"
    }
   },
   "execution_count": 55,
   "outputs": [
    {
     "data": {
      "text/plain": "0                    cult,horror,gothic,murder,atmospheric\n1                                                 violence\n2                                                 romantic\n3                      inspiring,romantic,stupid,feel-good\n4        cruelty,murder,dramatic,cult,violence,atmosphe...\n                               ...                        \n14823                                        comedy,murder\n14824                            good versus evil,violence\n14825                                             anti war\n14826                                               murder\n14827                                       christian film\nName: tags, Length: 14828, dtype: object"
     },
     "execution_count": 55,
     "metadata": {},
     "output_type": "execute_result"
    }
   ]
  },
  {
   "cell_type": "code",
   "source": [
    "train=df.loc[df.split=='train']\n",
    "train=train.reset_index()\n",
    "test=df.loc[df.split=='test']\n",
    "test=test.reset_index()"
   ],
   "metadata": {
    "execution": {
     "iopub.status.busy": "2024-02-08T02:20:53.333482Z",
     "iopub.execute_input": "2024-02-08T02:20:53.333902Z",
     "iopub.status.idle": "2024-02-08T02:20:53.356710Z",
     "shell.execute_reply.started": "2024-02-08T02:20:53.333859Z",
     "shell.execute_reply": "2024-02-08T02:20:53.355989Z"
    },
    "trusted": true,
    "ExecuteTime": {
     "end_time": "2024-02-08T06:01:26.191744600Z",
     "start_time": "2024-02-08T06:01:25.029168500Z"
    }
   },
   "execution_count": 56,
   "outputs": []
  },
  {
   "cell_type": "code",
   "source": [
    "cv=df.loc[df.split==\"val\"]\n",
    "cv=cv.reset_index()"
   ],
   "metadata": {
    "execution": {
     "iopub.status.busy": "2024-02-08T02:20:53.358099Z",
     "iopub.execute_input": "2024-02-08T02:20:53.358481Z",
     "iopub.status.idle": "2024-02-08T02:20:53.367789Z",
     "shell.execute_reply.started": "2024-02-08T02:20:53.358447Z",
     "shell.execute_reply": "2024-02-08T02:20:53.366836Z"
    },
    "trusted": true,
    "ExecuteTime": {
     "end_time": "2024-02-08T06:01:26.694390600Z",
     "start_time": "2024-02-08T06:01:26.198349700Z"
    }
   },
   "execution_count": 57,
   "outputs": []
  },
  {
   "cell_type": "code",
   "source": [
    "from sklearn.feature_extraction.text import CountVectorizer\n",
    "\n",
    "vectorizer = CountVectorizer(tokenizer = lambda x: x.split(\",\"), binary=True)\n",
    "y_train = vectorizer.fit_transform(train['tags']).toarray()\n",
    "y_test = vectorizer.transform(test['tags']).toarray()\n",
    "\n",
    "print(y_train)"
   ],
   "metadata": {
    "execution": {
     "iopub.status.busy": "2024-02-08T02:20:53.369502Z",
     "iopub.execute_input": "2024-02-08T02:20:53.369953Z",
     "iopub.status.idle": "2024-02-08T02:20:54.180354Z",
     "shell.execute_reply.started": "2024-02-08T02:20:53.369912Z",
     "shell.execute_reply": "2024-02-08T02:20:54.179411Z"
    },
    "trusted": true,
    "ExecuteTime": {
     "end_time": "2024-02-08T06:01:26.945291900Z",
     "start_time": "2024-02-08T06:01:26.710682700Z"
    }
   },
   "execution_count": 58,
   "outputs": [
    {
     "name": "stdout",
     "output_type": "stream",
     "text": [
      "[[0 0 0 ... 0 0 0]\n",
      " [0 0 0 ... 1 0 0]\n",
      " [0 0 0 ... 0 0 0]\n",
      " ...\n",
      " [0 0 0 ... 1 0 0]\n",
      " [0 0 0 ... 1 0 0]\n",
      " [0 0 0 ... 0 0 0]]\n"
     ]
    },
    {
     "name": "stderr",
     "output_type": "stream",
     "text": [
      "C:\\Users\\ASUS\\Documents\\DEV\\scientificProject\\.venv\\lib\\site-packages\\sklearn\\feature_extraction\\text.py:525: UserWarning: The parameter 'token_pattern' will not be used since 'tokenizer' is not None'\n",
      "  warnings.warn(\n"
     ]
    }
   ]
  },
  {
   "cell_type": "code",
   "outputs": [
    {
     "data": {
      "text/plain": "      index    imdb_id                               title  \\\n2250   3562  tt3062074         Sharknado 2: The Second One   \n4533   7178  tt0172543  He Died with a Felafel in His Hand   \n7893  12377  tt0066561      When Dinosaurs Ruled the Earth   \n8614  13471  tt0231956                        The Last Man   \n\n                                          plot_synopsis    tags  split  \\\n2250  Fin Shepard (Ian Ziering) and April Wexler (Ta...  absurd  train   \n4533  === Prologue ===\\nDanny (Noah Taylor), enters ...  absurd  train   \n7893  A tribe on a cliff are about to sacrifice thre...  absurd  train   \n8614  === Introduction ===\\nMary Shelley states in t...  absurd  train   \n\n     synopsis_source                                 preprocessed_plots  \n2250            imdb  fin shepard ian ziering april wexler tara reid...  \n4533       wikipedia  prologue danny noah taylor enters lounge sydne...  \n7893       wikipedia  tribe cliff sacrifice three blonde women three...  \n8614       wikipedia  introduction mary shelley states introduction ...  ",
      "text/html": "<div>\n<style scoped>\n    .dataframe tbody tr th:only-of-type {\n        vertical-align: middle;\n    }\n\n    .dataframe tbody tr th {\n        vertical-align: top;\n    }\n\n    .dataframe thead th {\n        text-align: right;\n    }\n</style>\n<table border=\"1\" class=\"dataframe\">\n  <thead>\n    <tr style=\"text-align: right;\">\n      <th></th>\n      <th>index</th>\n      <th>imdb_id</th>\n      <th>title</th>\n      <th>plot_synopsis</th>\n      <th>tags</th>\n      <th>split</th>\n      <th>synopsis_source</th>\n      <th>preprocessed_plots</th>\n    </tr>\n  </thead>\n  <tbody>\n    <tr>\n      <th>2250</th>\n      <td>3562</td>\n      <td>tt3062074</td>\n      <td>Sharknado 2: The Second One</td>\n      <td>Fin Shepard (Ian Ziering) and April Wexler (Ta...</td>\n      <td>absurd</td>\n      <td>train</td>\n      <td>imdb</td>\n      <td>fin shepard ian ziering april wexler tara reid...</td>\n    </tr>\n    <tr>\n      <th>4533</th>\n      <td>7178</td>\n      <td>tt0172543</td>\n      <td>He Died with a Felafel in His Hand</td>\n      <td>=== Prologue ===\\nDanny (Noah Taylor), enters ...</td>\n      <td>absurd</td>\n      <td>train</td>\n      <td>wikipedia</td>\n      <td>prologue danny noah taylor enters lounge sydne...</td>\n    </tr>\n    <tr>\n      <th>7893</th>\n      <td>12377</td>\n      <td>tt0066561</td>\n      <td>When Dinosaurs Ruled the Earth</td>\n      <td>A tribe on a cliff are about to sacrifice thre...</td>\n      <td>absurd</td>\n      <td>train</td>\n      <td>wikipedia</td>\n      <td>tribe cliff sacrifice three blonde women three...</td>\n    </tr>\n    <tr>\n      <th>8614</th>\n      <td>13471</td>\n      <td>tt0231956</td>\n      <td>The Last Man</td>\n      <td>=== Introduction ===\\nMary Shelley states in t...</td>\n      <td>absurd</td>\n      <td>train</td>\n      <td>wikipedia</td>\n      <td>introduction mary shelley states introduction ...</td>\n    </tr>\n  </tbody>\n</table>\n</div>"
     },
     "execution_count": 59,
     "metadata": {},
     "output_type": "execute_result"
    }
   ],
   "source": [
    "train[train['tags'] == 'absurd']"
   ],
   "metadata": {
    "collapsed": false,
    "ExecuteTime": {
     "end_time": "2024-02-08T06:01:27.074823800Z",
     "start_time": "2024-02-08T06:01:26.935738200Z"
    }
   },
   "execution_count": 59
  },
  {
   "cell_type": "markdown",
   "source": [],
   "metadata": {
    "collapsed": false
   }
  },
  {
   "cell_type": "code",
   "outputs": [
    {
     "data": {
      "text/plain": "array([[0, 0, 0, ..., 0, 0, 0],\n       [0, 0, 0, ..., 1, 0, 0],\n       [0, 0, 0, ..., 0, 0, 0],\n       ...,\n       [0, 0, 0, ..., 1, 0, 0],\n       [0, 0, 0, ..., 1, 0, 0],\n       [0, 0, 0, ..., 0, 0, 0]], dtype=int64)"
     },
     "execution_count": 60,
     "metadata": {},
     "output_type": "execute_result"
    }
   ],
   "source": [
    "y_train"
   ],
   "metadata": {
    "collapsed": false,
    "ExecuteTime": {
     "end_time": "2024-02-08T06:01:27.076813200Z",
     "start_time": "2024-02-08T06:01:26.982366900Z"
    }
   },
   "execution_count": 60
  },
  {
   "cell_type": "code",
   "outputs": [
    {
     "data": {
      "text/plain": "array([[ True],\n       [ True],\n       [ True],\n       [ True],\n       [ True],\n       [ True],\n       [ True],\n       [ True],\n       [ True],\n       [ True],\n       [ True],\n       [ True],\n       [ True],\n       [ True],\n       [ True],\n       [ True],\n       [ True],\n       [ True],\n       [ True],\n       [ True],\n       [ True],\n       [ True],\n       [ True],\n       [ True],\n       [ True],\n       [ True],\n       [ True],\n       [ True],\n       [False],\n       [ True],\n       [ True],\n       [ True],\n       [ True],\n       [ True],\n       [ True],\n       [ True],\n       [ True],\n       [ True],\n       [ True],\n       [ True],\n       [ True],\n       [ True],\n       [ True],\n       [False],\n       [ True],\n       [ True],\n       [ True],\n       [ True],\n       [ True],\n       [ True],\n       [ True],\n       [ True],\n       [ True],\n       [ True],\n       [ True],\n       [ True],\n       [ True],\n       [ True],\n       [ True],\n       [ True],\n       [ True],\n       [ True],\n       [ True],\n       [ True],\n       [ True],\n       [ True],\n       [ True],\n       [ True],\n       [ True],\n       [ True],\n       [ True]])"
     },
     "execution_count": 61,
     "metadata": {},
     "output_type": "execute_result"
    }
   ],
   "source": [
    "y_train_reshaped_row1 = y_train[9000].reshape(-1,1)\n",
    "y_train_reshaped_row2 = y_train[1000].reshape(-1,1)\n",
    "\n",
    "y_train_reshaped_row1 == y_train_reshaped_row2"
   ],
   "metadata": {
    "collapsed": false,
    "ExecuteTime": {
     "end_time": "2024-02-08T06:01:27.171921300Z",
     "start_time": "2024-02-08T06:01:27.027414100Z"
    }
   },
   "execution_count": 61
  },
  {
   "cell_type": "code",
   "source": [
    "y_train_reshaped_row = y_train[9000].reshape(-1,1)\n",
    "vectorizer.inverse_transform(y_train_reshaped_row)"
   ],
   "metadata": {
    "execution": {
     "iopub.status.busy": "2024-02-08T02:20:54.181712Z",
     "iopub.execute_input": "2024-02-08T02:20:54.181978Z",
     "iopub.status.idle": "2024-02-08T02:20:54.188762Z",
     "shell.execute_reply.started": "2024-02-08T02:20:54.181951Z",
     "shell.execute_reply": "2024-02-08T02:20:54.187714Z"
    },
    "trusted": true,
    "ExecuteTime": {
     "end_time": "2024-02-08T06:01:27.254667200Z",
     "start_time": "2024-02-08T06:01:27.039152400Z"
    }
   },
   "execution_count": 62,
   "outputs": [
    {
     "data": {
      "text/plain": "[array([], dtype='<U18'),\n array([], dtype='<U18'),\n array([], dtype='<U18'),\n array([], dtype='<U18'),\n array([], dtype='<U18'),\n array([], dtype='<U18'),\n array([], dtype='<U18'),\n array([], dtype='<U18'),\n array([], dtype='<U18'),\n array([], dtype='<U18'),\n array([], dtype='<U18'),\n array([], dtype='<U18'),\n array([], dtype='<U18'),\n array([], dtype='<U18'),\n array([], dtype='<U18'),\n array([], dtype='<U18'),\n array([], dtype='<U18'),\n array([], dtype='<U18'),\n array([], dtype='<U18'),\n array([], dtype='<U18'),\n array([], dtype='<U18'),\n array([], dtype='<U18'),\n array([], dtype='<U18'),\n array([], dtype='<U18'),\n array([], dtype='<U18'),\n array([], dtype='<U18'),\n array([], dtype='<U18'),\n array([], dtype='<U18'),\n array(['absurd'], dtype='<U18'),\n array([], dtype='<U18'),\n array([], dtype='<U18'),\n array([], dtype='<U18'),\n array([], dtype='<U18'),\n array([], dtype='<U18'),\n array([], dtype='<U18'),\n array([], dtype='<U18'),\n array([], dtype='<U18'),\n array([], dtype='<U18'),\n array([], dtype='<U18'),\n array([], dtype='<U18'),\n array([], dtype='<U18'),\n array([], dtype='<U18'),\n array([], dtype='<U18'),\n array(['absurd'], dtype='<U18'),\n array([], dtype='<U18'),\n array([], dtype='<U18'),\n array([], dtype='<U18'),\n array([], dtype='<U18'),\n array([], dtype='<U18'),\n array([], dtype='<U18'),\n array([], dtype='<U18'),\n array([], dtype='<U18'),\n array([], dtype='<U18'),\n array([], dtype='<U18'),\n array([], dtype='<U18'),\n array([], dtype='<U18'),\n array([], dtype='<U18'),\n array(['absurd'], dtype='<U18'),\n array([], dtype='<U18'),\n array([], dtype='<U18'),\n array([], dtype='<U18'),\n array([], dtype='<U18'),\n array([], dtype='<U18'),\n array([], dtype='<U18'),\n array([], dtype='<U18'),\n array([], dtype='<U18'),\n array([], dtype='<U18'),\n array([], dtype='<U18'),\n array([], dtype='<U18'),\n array([], dtype='<U18'),\n array([], dtype='<U18')]"
     },
     "execution_count": 62,
     "metadata": {},
     "output_type": "execute_result"
    }
   ]
  },
  {
   "cell_type": "code",
   "source": [
    "def max_len(x):\n",
    "    a=x.split()\n",
    "    return len(a)\n",
    "\n",
    "max(df['plot_synopsis'].apply(max_len))"
   ],
   "metadata": {
    "execution": {
     "iopub.status.busy": "2024-02-08T02:20:54.190388Z",
     "iopub.execute_input": "2024-02-08T02:20:54.190788Z",
     "iopub.status.idle": "2024-02-08T02:20:55.086819Z",
     "shell.execute_reply.started": "2024-02-08T02:20:54.190750Z",
     "shell.execute_reply": "2024-02-08T02:20:55.085841Z"
    },
    "trusted": true,
    "ExecuteTime": {
     "end_time": "2024-02-08T06:01:31.006933500Z",
     "start_time": "2024-02-08T06:01:27.090606500Z"
    }
   },
   "execution_count": 63,
   "outputs": [
    {
     "data": {
      "text/plain": "11406"
     },
     "execution_count": 63,
     "metadata": {},
     "output_type": "execute_result"
    }
   ]
  },
  {
   "cell_type": "code",
   "source": [
    "import tensorflow as tf\n",
    "from tensorflow.keras.preprocessing.text import Tokenizer\n",
    "from keras.preprocessing.sequence import pad_sequences\n",
    "from tensorflow import keras\n",
    "from tensorflow.keras import layers"
   ],
   "metadata": {
    "execution": {
     "iopub.status.busy": "2024-02-08T02:20:55.088356Z",
     "iopub.execute_input": "2024-02-08T02:20:55.088850Z",
     "iopub.status.idle": "2024-02-08T02:20:59.858462Z",
     "shell.execute_reply.started": "2024-02-08T02:20:55.088805Z",
     "shell.execute_reply": "2024-02-08T02:20:59.857618Z"
    },
    "trusted": true,
    "ExecuteTime": {
     "end_time": "2024-02-08T06:01:53.861976100Z",
     "start_time": "2024-02-08T06:01:30.999812700Z"
    }
   },
   "execution_count": 64,
   "outputs": [
    {
     "name": "stdout",
     "output_type": "stream",
     "text": [
      "WARNING:tensorflow:From C:\\Users\\ASUS\\Documents\\DEV\\scientificProject\\.venv\\lib\\site-packages\\keras\\src\\losses.py:2976: The name tf.losses.sparse_softmax_cross_entropy is deprecated. Please use tf.compat.v1.losses.sparse_softmax_cross_entropy instead.\n"
     ]
    }
   ]
  },
  {
   "cell_type": "code",
   "source": [
    "vect=Tokenizer()\n",
    "vect.fit_on_texts(train['plot_synopsis'])\n",
    "vocab_size = len(vect.word_index) + 1\n",
    "print(vocab_size)"
   ],
   "metadata": {
    "execution": {
     "iopub.status.busy": "2024-02-08T02:20:59.859542Z",
     "iopub.execute_input": "2024-02-08T02:20:59.859849Z",
     "iopub.status.idle": "2024-02-08T02:21:08.699912Z",
     "shell.execute_reply.started": "2024-02-08T02:20:59.859819Z",
     "shell.execute_reply": "2024-02-08T02:21:08.698707Z"
    },
    "trusted": true,
    "ExecuteTime": {
     "end_time": "2024-02-08T06:02:17.971757100Z",
     "start_time": "2024-02-08T06:01:53.822833Z"
    }
   },
   "execution_count": 65,
   "outputs": [
    {
     "name": "stdout",
     "output_type": "stream",
     "text": [
      "122195\n"
     ]
    }
   ]
  },
  {
   "cell_type": "code",
   "source": [
    "encoded_docs_train = vect.texts_to_sequences(train['preprocessed_plots'])\n",
    "max_length = vocab_size\n",
    "padded_docs_train = pad_sequences(encoded_docs_train, maxlen=1200, padding='post')\n",
    "print(padded_docs_train)"
   ],
   "metadata": {
    "execution": {
     "iopub.status.busy": "2024-02-08T02:21:08.701344Z",
     "iopub.execute_input": "2024-02-08T02:21:08.701684Z",
     "iopub.status.idle": "2024-02-08T02:21:12.782645Z",
     "shell.execute_reply.started": "2024-02-08T02:21:08.701650Z",
     "shell.execute_reply": "2024-02-08T02:21:12.781594Z"
    },
    "trusted": true,
    "ExecuteTime": {
     "end_time": "2024-02-08T06:02:24.203162200Z",
     "start_time": "2024-02-08T06:02:17.470561500Z"
    }
   },
   "execution_count": 66,
   "outputs": [
    {
     "name": "stdout",
     "output_type": "stream",
     "text": [
      "[[  779  4660 62208 ...     0     0     0]\n",
      " [   51  4481   143 ...     0     0     0]\n",
      " [ 3063   429   188 ...    75   140  6946]\n",
      " ...\n",
      " [  140  2717   539 ...     0     0     0]\n",
      " [ 5118  2731  3015 ...     0     0     0]\n",
      " [ 1269  2392  2530 ...     0     0     0]]\n"
     ]
    }
   ]
  },
  {
   "cell_type": "code",
   "source": [
    "encoded_docs_test =  vect.texts_to_sequences(test['preprocessed_plots'])\n",
    "padded_docs_test = pad_sequences(encoded_docs_test, maxlen=1200, padding='post')\n",
    "encoded_docs_cv = vect.texts_to_sequences(cv['preprocessed_plots'])\n",
    "padded_docs_cv = pad_sequences(encoded_docs_cv, maxlen=1200, padding='post')"
   ],
   "metadata": {
    "execution": {
     "iopub.status.busy": "2024-02-08T02:21:12.784221Z",
     "iopub.execute_input": "2024-02-08T02:21:12.784685Z",
     "iopub.status.idle": "2024-02-08T02:21:15.091340Z",
     "shell.execute_reply.started": "2024-02-08T02:21:12.784614Z",
     "shell.execute_reply": "2024-02-08T02:21:15.090502Z"
    },
    "trusted": true,
    "ExecuteTime": {
     "end_time": "2024-02-08T06:02:27.312090300Z",
     "start_time": "2024-02-08T06:02:24.195568200Z"
    }
   },
   "execution_count": 67,
   "outputs": []
  },
  {
   "cell_type": "code",
   "source": [
    "model = keras.Sequential()\n",
    "# Configuring the parameters\n",
    "model.add(layers.Embedding(vocab_size, output_dim=50, input_length=1200))\n",
    "model.add(layers.LSTM(128, return_sequences=True))  \n",
    "# Adding a dropout layer\n",
    "model.add(layers.Dropout(0.5))\n",
    "model.add(layers.LSTM(64))\n",
    "model.add(layers.Dropout(0.5))\n",
    "# Adding a dense output layer with sigmoid activation\n",
    "model.add(layers.Dense(71, activation='sigmoid'))\n",
    "\n",
    "\n",
    "model.summary()"
   ],
   "metadata": {
    "execution": {
     "iopub.status.busy": "2024-02-08T02:21:15.092862Z",
     "iopub.execute_input": "2024-02-08T02:21:15.093176Z",
     "iopub.status.idle": "2024-02-08T02:21:15.814543Z",
     "shell.execute_reply.started": "2024-02-08T02:21:15.093146Z",
     "shell.execute_reply": "2024-02-08T02:21:15.813688Z"
    },
    "trusted": true,
    "ExecuteTime": {
     "end_time": "2024-02-08T06:02:30.270665100Z",
     "start_time": "2024-02-08T06:02:27.309991Z"
    }
   },
   "execution_count": 68,
   "outputs": [
    {
     "name": "stdout",
     "output_type": "stream",
     "text": [
      "WARNING:tensorflow:From C:\\Users\\ASUS\\Documents\\DEV\\scientificProject\\.venv\\lib\\site-packages\\keras\\src\\backend.py:873: The name tf.get_default_graph is deprecated. Please use tf.compat.v1.get_default_graph instead.\n",
      "Model: \"sequential\"\n",
      "_________________________________________________________________\n",
      " Layer (type)                Output Shape              Param #   \n",
      "=================================================================\n",
      " embedding (Embedding)       (None, 1200, 50)          6109750   \n",
      "                                                                 \n",
      " lstm (LSTM)                 (None, 1200, 128)         91648     \n",
      "                                                                 \n",
      " dropout (Dropout)           (None, 1200, 128)         0         \n",
      "                                                                 \n",
      " lstm_1 (LSTM)               (None, 64)                49408     \n",
      "                                                                 \n",
      " dropout_1 (Dropout)         (None, 64)                0         \n",
      "                                                                 \n",
      " dense (Dense)               (None, 71)                4615      \n",
      "                                                                 \n",
      "=================================================================\n",
      "Total params: 6255421 (23.86 MB)\n",
      "Trainable params: 6255421 (23.86 MB)\n",
      "Non-trainable params: 0 (0.00 Byte)\n",
      "_________________________________________________________________\n"
     ]
    }
   ]
  },
  {
   "cell_type": "code",
   "source": [
    "METRICS = [\n",
    "      keras.metrics.TruePositives(name='tp'),\n",
    "      keras.metrics.FalsePositives(name='fp'),\n",
    "      keras.metrics.TrueNegatives(name='tn'),\n",
    "      keras.metrics.FalseNegatives(name='fn'), \n",
    "      keras.metrics.BinaryAccuracy(name='accuracy'),\n",
    "      keras.metrics.Precision(name='precision'),\n",
    "      keras.metrics.Recall(name='recall'),\n",
    "      keras.metrics.AUC(name='auc'),\n",
    "]\n",
    "\n",
    "model.compile(optimizer='adam', loss='binary_crossentropy', metrics = METRICS)"
   ],
   "metadata": {
    "execution": {
     "iopub.status.busy": "2024-02-08T02:21:15.815878Z",
     "iopub.execute_input": "2024-02-08T02:21:15.816159Z",
     "iopub.status.idle": "2024-02-08T02:21:15.881340Z",
     "shell.execute_reply.started": "2024-02-08T02:21:15.816130Z",
     "shell.execute_reply": "2024-02-08T02:21:15.880477Z"
    },
    "trusted": true,
    "ExecuteTime": {
     "end_time": "2024-02-08T06:02:30.917877300Z",
     "start_time": "2024-02-08T06:02:30.135526900Z"
    }
   },
   "execution_count": 69,
   "outputs": [
    {
     "name": "stdout",
     "output_type": "stream",
     "text": [
      "WARNING:tensorflow:From C:\\Users\\ASUS\\Documents\\DEV\\scientificProject\\.venv\\lib\\site-packages\\keras\\src\\optimizers\\__init__.py:309: The name tf.train.Optimizer is deprecated. Please use tf.compat.v1.train.Optimizer instead.\n"
     ]
    }
   ]
  },
  {
   "cell_type": "code",
   "source": [
    "history = model.fit(padded_docs_train,y_train,\n",
    "                        epochs = 10,\n",
    "                        verbose = 1,\n",
    "                        validation_data=(padded_docs_test, y_test),\n",
    "                        batch_size=16)"
   ],
   "metadata": {
    "execution": {
     "iopub.status.busy": "2024-02-08T02:21:15.882718Z",
     "iopub.execute_input": "2024-02-08T02:21:15.883018Z"
    },
    "trusted": true,
    "ExecuteTime": {
     "end_time": "2024-02-08T09:18:55.897159700Z",
     "start_time": "2024-02-08T06:02:30.410672Z"
    }
   },
   "execution_count": 70,
   "outputs": [
    {
     "name": "stdout",
     "output_type": "stream",
     "text": [
      "Epoch 1/10\n",
      "WARNING:tensorflow:From C:\\Users\\ASUS\\Documents\\DEV\\scientificProject\\.venv\\lib\\site-packages\\keras\\src\\utils\\tf_utils.py:492: The name tf.ragged.RaggedTensorValue is deprecated. Please use tf.compat.v1.ragged.RaggedTensorValue instead.\n",
      "594/594 [==============================] - 1349s 2s/step - loss: 0.1719 - tp: 1396.0000 - fp: 8458.0000 - tn: 637239.0000 - fn: 26626.0000 - accuracy: 0.9479 - precision: 0.1417 - recall: 0.0498 - auc: 0.7537 - val_loss: 0.1418 - val_tp: 0.0000e+00 - val_fp: 0.0000e+00 - val_tn: 201564.0000 - val_fn: 9022.0000 - val_accuracy: 0.9572 - val_precision: 0.0000e+00 - val_recall: 0.0000e+00 - val_auc: 0.8301\n",
      "Epoch 2/10\n",
      "594/594 [==============================] - 1276s 2s/step - loss: 0.1468 - tp: 406.0000 - fp: 1141.0000 - tn: 644556.0000 - fn: 27616.0000 - accuracy: 0.9573 - precision: 0.2624 - recall: 0.0145 - auc: 0.7994 - val_loss: 0.1425 - val_tp: 0.0000e+00 - val_fp: 0.0000e+00 - val_tn: 201564.0000 - val_fn: 9022.0000 - val_accuracy: 0.9572 - val_precision: 0.0000e+00 - val_recall: 0.0000e+00 - val_auc: 0.8283\n",
      "Epoch 3/10\n",
      "594/594 [==============================] - 1424s 2s/step - loss: 0.1438 - tp: 130.0000 - fp: 208.0000 - tn: 645489.0000 - fn: 27892.0000 - accuracy: 0.9583 - precision: 0.3846 - recall: 0.0046 - auc: 0.8070 - val_loss: 0.1423 - val_tp: 18.0000 - val_fp: 266.0000 - val_tn: 201298.0000 - val_fn: 9004.0000 - val_accuracy: 0.9560 - val_precision: 0.0634 - val_recall: 0.0020 - val_auc: 0.8317\n",
      "Epoch 4/10\n",
      "594/594 [==============================] - 1379s 2s/step - loss: 0.1421 - tp: 5.0000 - fp: 92.0000 - tn: 645605.0000 - fn: 28017.0000 - accuracy: 0.9583 - precision: 0.0515 - recall: 1.7843e-04 - auc: 0.8126 - val_loss: 0.1406 - val_tp: 0.0000e+00 - val_fp: 0.0000e+00 - val_tn: 201564.0000 - val_fn: 9022.0000 - val_accuracy: 0.9572 - val_precision: 0.0000e+00 - val_recall: 0.0000e+00 - val_auc: 0.8336\n",
      "Epoch 5/10\n",
      "594/594 [==============================] - 1071s 2s/step - loss: 0.1404 - tp: 3.0000 - fp: 3.0000 - tn: 645694.0000 - fn: 28019.0000 - accuracy: 0.9584 - precision: 0.5000 - recall: 1.0706e-04 - auc: 0.8193 - val_loss: 0.1416 - val_tp: 0.0000e+00 - val_fp: 0.0000e+00 - val_tn: 201564.0000 - val_fn: 9022.0000 - val_accuracy: 0.9572 - val_precision: 0.0000e+00 - val_recall: 0.0000e+00 - val_auc: 0.8324\n",
      "Epoch 6/10\n",
      "594/594 [==============================] - 1090s 2s/step - loss: 0.1400 - tp: 6.0000 - fp: 11.0000 - tn: 645686.0000 - fn: 28016.0000 - accuracy: 0.9584 - precision: 0.3529 - recall: 2.1412e-04 - auc: 0.8205 - val_loss: 0.1409 - val_tp: 0.0000e+00 - val_fp: 0.0000e+00 - val_tn: 201564.0000 - val_fn: 9022.0000 - val_accuracy: 0.9572 - val_precision: 0.0000e+00 - val_recall: 0.0000e+00 - val_auc: 0.8325\n",
      "Epoch 7/10\n",
      "594/594 [==============================] - 1110s 2s/step - loss: 0.1396 - tp: 37.0000 - fp: 15.0000 - tn: 645682.0000 - fn: 27985.0000 - accuracy: 0.9584 - precision: 0.7115 - recall: 0.0013 - auc: 0.8217 - val_loss: 0.1408 - val_tp: 0.0000e+00 - val_fp: 0.0000e+00 - val_tn: 201564.0000 - val_fn: 9022.0000 - val_accuracy: 0.9572 - val_precision: 0.0000e+00 - val_recall: 0.0000e+00 - val_auc: 0.8319\n",
      "Epoch 8/10\n",
      "594/594 [==============================] - 1044s 2s/step - loss: 0.1392 - tp: 94.0000 - fp: 37.0000 - tn: 645660.0000 - fn: 27928.0000 - accuracy: 0.9585 - precision: 0.7176 - recall: 0.0034 - auc: 0.8235 - val_loss: 0.1405 - val_tp: 16.0000 - val_fp: 16.0000 - val_tn: 201548.0000 - val_fn: 9006.0000 - val_accuracy: 0.9572 - val_precision: 0.5000 - val_recall: 0.0018 - val_auc: 0.8332\n",
      "Epoch 9/10\n",
      "594/594 [==============================] - 1033s 2s/step - loss: 0.1392 - tp: 118.0000 - fp: 63.0000 - tn: 645634.0000 - fn: 27904.0000 - accuracy: 0.9585 - precision: 0.6519 - recall: 0.0042 - auc: 0.8227 - val_loss: 0.1407 - val_tp: 8.0000 - val_fp: 11.0000 - val_tn: 201553.0000 - val_fn: 9014.0000 - val_accuracy: 0.9571 - val_precision: 0.4211 - val_recall: 8.8672e-04 - val_auc: 0.8335\n",
      "Epoch 10/10\n",
      "594/594 [==============================] - 1002s 2s/step - loss: 0.1390 - tp: 114.0000 - fp: 64.0000 - tn: 645633.0000 - fn: 27908.0000 - accuracy: 0.9585 - precision: 0.6404 - recall: 0.0041 - auc: 0.8231 - val_loss: 0.1409 - val_tp: 42.0000 - val_fp: 38.0000 - val_tn: 201526.0000 - val_fn: 8980.0000 - val_accuracy: 0.9572 - val_precision: 0.5250 - val_recall: 0.0047 - val_auc: 0.8319\n"
     ]
    }
   ]
  },
  {
   "cell_type": "code",
   "source": [
    "import matplotlib.pyplot as plt\n",
    "import matplotlib as mpl\n",
    "\n",
    "mpl.rcParams['figure.figsize'] = (12, 10)\n",
    "colors = plt.rcParams['axes.prop_cycle'].by_key()['color']\n",
    "\n",
    "def plot_metrics(history):\n",
    "    metrics =  ['loss', 'auc', 'precision', 'recall']\n",
    "    for n, metric in enumerate(metrics):\n",
    "        name = metric.replace(\"_\",\" \").capitalize()\n",
    "        plt.subplot(2,2,n+1)\n",
    "        plt.plot(history.epoch,  history.history[metric], color=colors[0], label='Train')\n",
    "        plt.plot(history.epoch, history.history['val_'+metric],\n",
    "                 color=colors[0], linestyle=\"--\", label='Val')\n",
    "        plt.xlabel('Epoch')\n",
    "        plt.ylabel(name)\n",
    "        if metric == 'loss':\n",
    "            plt.ylim([0, plt.ylim()[1]])\n",
    "        elif metric == 'auc':\n",
    "            plt.ylim([0.8,1])\n",
    "        else:\n",
    "            plt.ylim([0,1])\n",
    "\n",
    "        plt.legend()\n",
    "\n",
    "plot_metrics(history)"
   ],
   "metadata": {
    "trusted": true,
    "ExecuteTime": {
     "end_time": "2024-02-08T09:18:58.458814200Z",
     "start_time": "2024-02-08T09:18:55.926226700Z"
    }
   },
   "execution_count": 71,
   "outputs": [
    {
     "data": {
      "text/plain": "<Figure size 1200x1000 with 4 Axes>",
      "image/png": "[encoded data removed]"
     },
     "metadata": {},
     "output_type": "display_data"
    }
   ]
  },
  {
   "cell_type": "code",
   "source": [
    "from sklearn.metrics import precision_score, recall_score, f1_score"
   ],
   "metadata": {
    "trusted": true,
    "ExecuteTime": {
     "end_time": "2024-02-08T09:19:04.556045600Z",
     "start_time": "2024-02-08T09:18:58.617815400Z"
    }
   },
   "execution_count": 72,
   "outputs": []
  },
  {
   "cell_type": "code",
   "source": [
    "predictions=model.predict([padded_docs_test])\n",
    "thresholds=[0.1,0.2,0.3,0.4,0.5,0.6,0.7,0.8,0.9]\n",
    "\n",
    "for val in thresholds:\n",
    "    print(\"For threshold: \", val)\n",
    "    pred=predictions.copy()\n",
    "  \n",
    "    pred[pred>=val]=1\n",
    "    pred[pred<val]=0\n",
    "  \n",
    "    precision = precision_score(y_test, pred, average='micro')\n",
    "    recall = recall_score(y_test, pred, average='micro')\n",
    "    f1 = f1_score(y_test, pred, average='micro')\n",
    "   \n",
    "    print(\"Micro-average quality numbers\")\n",
    "    print(\"Precision: {:.4f}, Recall: {:.4f}, F1-measure: {:.4f}\".format(precision, recall, f1))"
   ],
   "metadata": {
    "trusted": true,
    "ExecuteTime": {
     "end_time": "2024-02-08T09:20:06.185571500Z",
     "start_time": "2024-02-08T09:18:58.716741400Z"
    }
   },
   "execution_count": 73,
   "outputs": [
    {
     "name": "stdout",
     "output_type": "stream",
     "text": [
      "93/93 [==============================] - 66s 669ms/step\n",
      "For threshold:  0.1\n",
      "Micro-average quality numbers\n",
      "Precision: 0.2093, Recall: 0.5766, F1-measure: 0.3071\n",
      "For threshold:  0.2\n",
      "Micro-average quality numbers\n",
      "Precision: 0.3329, Recall: 0.2521, F1-measure: 0.2869\n",
      "For threshold:  0.3\n",
      "Micro-average quality numbers\n",
      "Precision: 0.3814, Recall: 0.1446, F1-measure: 0.2097\n",
      "For threshold:  0.4\n",
      "Micro-average quality numbers\n",
      "Precision: 0.4748, Recall: 0.0146, F1-measure: 0.0284\n",
      "For threshold:  0.5\n",
      "Micro-average quality numbers\n",
      "Precision: 0.5250, Recall: 0.0047, F1-measure: 0.0092\n",
      "For threshold:  0.6\n",
      "Micro-average quality numbers\n",
      "Precision: 0.0000, Recall: 0.0000, F1-measure: 0.0000\n",
      "For threshold:  0.7\n",
      "Micro-average quality numbers\n",
      "Precision: 0.0000, Recall: 0.0000, F1-measure: 0.0000\n",
      "For threshold:  0.8\n"
     ]
    },
    {
     "name": "stderr",
     "output_type": "stream",
     "text": [
      "C:\\Users\\ASUS\\Documents\\DEV\\scientificProject\\.venv\\lib\\site-packages\\sklearn\\metrics\\_classification.py:1497: UndefinedMetricWarning: Precision is ill-defined and being set to 0.0 due to no predicted samples. Use `zero_division` parameter to control this behavior.\n",
      "  _warn_prf(average, modifier, f\"{metric.capitalize()} is\", len(result))\n",
      "C:\\Users\\ASUS\\Documents\\DEV\\scientificProject\\.venv\\lib\\site-packages\\sklearn\\metrics\\_classification.py:1497: UndefinedMetricWarning: Precision is ill-defined and being set to 0.0 due to no predicted samples. Use `zero_division` parameter to control this behavior.\n",
      "  _warn_prf(average, modifier, f\"{metric.capitalize()} is\", len(result))\n",
      "C:\\Users\\ASUS\\Documents\\DEV\\scientificProject\\.venv\\lib\\site-packages\\sklearn\\metrics\\_classification.py:1497: UndefinedMetricWarning: Precision is ill-defined and being set to 0.0 due to no predicted samples. Use `zero_division` parameter to control this behavior.\n",
      "  _warn_prf(average, modifier, f\"{metric.capitalize()} is\", len(result))\n"
     ]
    },
    {
     "name": "stdout",
     "output_type": "stream",
     "text": [
      "Micro-average quality numbers\n",
      "Precision: 0.0000, Recall: 0.0000, F1-measure: 0.0000\n",
      "For threshold:  0.9\n",
      "Micro-average quality numbers\n",
      "Precision: 0.0000, Recall: 0.0000, F1-measure: 0.0000\n"
     ]
    },
    {
     "name": "stderr",
     "output_type": "stream",
     "text": [
      "C:\\Users\\ASUS\\Documents\\DEV\\scientificProject\\.venv\\lib\\site-packages\\sklearn\\metrics\\_classification.py:1497: UndefinedMetricWarning: Precision is ill-defined and being set to 0.0 due to no predicted samples. Use `zero_division` parameter to control this behavior.\n",
      "  _warn_prf(average, modifier, f\"{metric.capitalize()} is\", len(result))\n"
     ]
    }
   ]
  },
  {
   "cell_type": "code",
   "source": [
    "def predict_sample():\n",
    "    t = train.sample(1)\n",
    "\n",
    "    \n",
    "    encoded_docs = vect.texts_to_sequences(t['preprocessed_plots'])\n",
    "    padded_docs = pad_sequences(encoded_docs, maxlen=1200, padding='post')\n",
    "    pred = model.predict(padded_docs)\n",
    "    print(pred)\n",
    "    for i in range(len(pred[0])):\n",
    "        if(pred[0][i] < 0.1):\n",
    "            pred[0][i] = 0\n",
    "        else:\n",
    "            pred[0][i] = 1\n",
    "    \n",
    "    print(\"Original tags -->\", t['tags'].values)\n",
    "    print(\"Predicted tags -->\", vectorizer.inverse_transform(pred)[0])\n",
    "\n",
    "predict_sample()"
   ],
   "metadata": {
    "trusted": true,
    "ExecuteTime": {
     "end_time": "2024-02-08T09:38:49.724235500Z",
     "start_time": "2024-02-08T09:38:49.381259300Z"
    }
   },
   "execution_count": 123,
   "outputs": [
    {
     "name": "stdout",
     "output_type": "stream",
     "text": [
      "1/1 [==============================] - 0s 183ms/step\n",
      "[[0.01300761 0.03778732 0.00699193 0.00859821 0.00450084 0.00842898\n",
      "  0.00548991 0.0186711  0.00210703 0.01831819 0.0044949  0.0097258\n",
      "  0.02359893 0.00556005 0.00202788 0.0038885  0.00374696 0.1234563\n",
      "  0.00524437 0.02557384 0.17158753 0.00907794 0.02084315 0.01314831\n",
      "  0.01991413 0.03360426 0.04094912 0.00311799 0.16881277 0.04537691\n",
      "  0.03192179 0.0042666  0.00842252 0.01454629 0.00754102 0.00820553\n",
      "  0.02502566 0.04814516 0.04083819 0.0053787  0.00988488 0.0027989\n",
      "  0.03115544 0.37798396 0.02343897 0.04046535 0.00240492 0.0328012\n",
      "  0.01292863 0.01136197 0.01100793 0.01730939 0.10901235 0.01431644\n",
      "  0.0054249  0.0123993  0.17336045 0.17089021 0.03810842 0.05137795\n",
      "  0.01468107 0.01305241 0.0216821  0.00714029 0.00239239 0.06614389\n",
      "  0.0055281  0.03660708 0.28525966 0.00378662 0.00378734]]\n",
      "Original tags --> ['mystery,neo noir,murder,suspenseful,violence,intrigue,revenge']\n",
      "Predicted tags --> ['comedy' 'cult' 'flashback' 'murder' 'psychedelic' 'revenge' 'romantic'\n",
      " 'violence']\n"
     ]
    }
   ]
  },
  {
   "cell_type": "code",
   "outputs": [
    {
     "ename": "TypeError",
     "evalue": "Binding inputs to tf.function failed due to `missing a required argument: 'inputs'`. Received args: ([TensorSpec(shape=(None, None, 50), dtype=tf.float32, name=None)],) and kwargs: {'training': True} for signature: (self, inputs, mask=<captured_default_value>, training=<captured_default_value>, initial_state=<captured_default_value>).",
     "output_type": "error",
     "traceback": [
      "\u001B[1;31m---------------------------------------------------------------------------\u001B[0m",
      "\u001B[1;31mTypeError\u001B[0m                                 Traceback (most recent call last)",
      "Cell \u001B[1;32mIn[114], line 1\u001B[0m\n\u001B[1;32m----> 1\u001B[0m \u001B[43mmodel\u001B[49m\u001B[38;5;241;43m.\u001B[39;49m\u001B[43msave\u001B[49m\u001B[43m(\u001B[49m\u001B[38;5;124;43m'\u001B[39;49m\u001B[38;5;124;43m../models/sparkv1\u001B[39;49m\u001B[38;5;124;43m'\u001B[39;49m\u001B[43m)\u001B[49m\n",
      "File \u001B[1;32m~\\Documents\\DEV\\scientificProject\\.venv\\lib\\site-packages\\keras\\src\\utils\\traceback_utils.py:70\u001B[0m, in \u001B[0;36mfilter_traceback.<locals>.error_handler\u001B[1;34m(*args, **kwargs)\u001B[0m\n\u001B[0;32m     67\u001B[0m     filtered_tb \u001B[38;5;241m=\u001B[39m _process_traceback_frames(e\u001B[38;5;241m.\u001B[39m__traceback__)\n\u001B[0;32m     68\u001B[0m     \u001B[38;5;66;03m# To get the full stack trace, call:\u001B[39;00m\n\u001B[0;32m     69\u001B[0m     \u001B[38;5;66;03m# `tf.debugging.disable_traceback_filtering()`\u001B[39;00m\n\u001B[1;32m---> 70\u001B[0m     \u001B[38;5;28;01mraise\u001B[39;00m e\u001B[38;5;241m.\u001B[39mwith_traceback(filtered_tb) \u001B[38;5;28;01mfrom\u001B[39;00m \u001B[38;5;28;01mNone\u001B[39;00m\n\u001B[0;32m     71\u001B[0m \u001B[38;5;28;01mfinally\u001B[39;00m:\n\u001B[0;32m     72\u001B[0m     \u001B[38;5;28;01mdel\u001B[39;00m filtered_tb\n",
      "File \u001B[1;32m~\\AppData\\Local\\Programs\\Python\\Python310\\lib\\contextlib.py:142\u001B[0m, in \u001B[0;36m_GeneratorContextManager.__exit__\u001B[1;34m(self, typ, value, traceback)\u001B[0m\n\u001B[0;32m    140\u001B[0m \u001B[38;5;28;01mif\u001B[39;00m typ \u001B[38;5;129;01mis\u001B[39;00m \u001B[38;5;28;01mNone\u001B[39;00m:\n\u001B[0;32m    141\u001B[0m     \u001B[38;5;28;01mtry\u001B[39;00m:\n\u001B[1;32m--> 142\u001B[0m         \u001B[38;5;28mnext\u001B[39m(\u001B[38;5;28mself\u001B[39m\u001B[38;5;241m.\u001B[39mgen)\n\u001B[0;32m    143\u001B[0m     \u001B[38;5;28;01mexcept\u001B[39;00m \u001B[38;5;167;01mStopIteration\u001B[39;00m:\n\u001B[0;32m    144\u001B[0m         \u001B[38;5;28;01mreturn\u001B[39;00m \u001B[38;5;28;01mFalse\u001B[39;00m\n",
      "\u001B[1;31mTypeError\u001B[0m: Binding inputs to tf.function failed due to `missing a required argument: 'inputs'`. Received args: ([TensorSpec(shape=(None, None, 50), dtype=tf.float32, name=None)],) and kwargs: {'training': True} for signature: (self, inputs, mask=<captured_default_value>, training=<captured_default_value>, initial_state=<captured_default_value>)."
     ]
    }
   ],
   "source": [
    "model.save('../models/sparkv1')"
   ],
   "metadata": {
    "collapsed": false,
    "ExecuteTime": {
     "end_time": "2024-02-08T09:38:09.704552Z",
     "start_time": "2024-02-08T09:38:09.428809700Z"
    }
   },
   "execution_count": 114
  },
  {
   "cell_type": "code",
   "outputs": [
    {
     "data": {
      "text/plain": "[array([], dtype='<U18'),\n array([], dtype='<U18'),\n array([], dtype='<U18'),\n array([], dtype='<U18'),\n array([], dtype='<U18'),\n array([], dtype='<U18'),\n array([], dtype='<U18'),\n array([], dtype='<U18'),\n array([], dtype='<U18'),\n array([], dtype='<U18'),\n array([], dtype='<U18'),\n array([], dtype='<U18'),\n array([], dtype='<U18'),\n array([], dtype='<U18'),\n array([], dtype='<U18'),\n array([], dtype='<U18'),\n array([], dtype='<U18'),\n array([], dtype='<U18'),\n array([], dtype='<U18'),\n array([], dtype='<U18'),\n array([], dtype='<U18'),\n array([], dtype='<U18'),\n array([], dtype='<U18'),\n array([], dtype='<U18'),\n array([], dtype='<U18'),\n array([], dtype='<U18'),\n array([], dtype='<U18'),\n array([], dtype='<U18'),\n array([], dtype='<U18'),\n array([], dtype='<U18'),\n array([], dtype='<U18'),\n array([], dtype='<U18'),\n array([], dtype='<U18'),\n array([], dtype='<U18'),\n array([], dtype='<U18'),\n array([], dtype='<U18'),\n array([], dtype='<U18'),\n array([], dtype='<U18'),\n array([], dtype='<U18'),\n array([], dtype='<U18'),\n array([], dtype='<U18'),\n array([], dtype='<U18'),\n array([], dtype='<U18'),\n array([], dtype='<U18'),\n array([], dtype='<U18'),\n array([], dtype='<U18'),\n array([], dtype='<U18'),\n array([], dtype='<U18'),\n array([], dtype='<U18'),\n array([], dtype='<U18'),\n array([], dtype='<U18'),\n array([], dtype='<U18'),\n array([], dtype='<U18'),\n array([], dtype='<U18'),\n array([], dtype='<U18'),\n array([], dtype='<U18'),\n array([], dtype='<U18'),\n array([], dtype='<U18'),\n array([], dtype='<U18'),\n array([], dtype='<U18'),\n array([], dtype='<U18'),\n array([], dtype='<U18'),\n array([], dtype='<U18'),\n array([], dtype='<U18'),\n array([], dtype='<U18'),\n array([], dtype='<U18'),\n array([], dtype='<U18'),\n array([], dtype='<U18'),\n array([], dtype='<U18'),\n array([], dtype='<U18'),\n array([], dtype='<U18')]"
     },
     "execution_count": 78,
     "metadata": {},
     "output_type": "execute_result"
    }
   ],
   "source": [
    "vectorizer.inverse_transform(pred[0].reshape(-1,1))"
   ],
   "metadata": {
    "collapsed": false,
    "ExecuteTime": {
     "end_time": "2024-02-08T09:24:29.044081400Z",
     "start_time": "2024-02-08T09:24:28.987565500Z"
    }
   },
   "execution_count": 78
  },
  {
   "cell_type": "code",
   "outputs": [],
   "source": [],
   "metadata": {
    "collapsed": false
   }
  }
 ]
}
